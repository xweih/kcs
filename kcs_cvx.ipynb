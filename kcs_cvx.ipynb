{
 "cells": [
  {
   "cell_type": "code",
   "execution_count": 1,
   "id": "de2e090c-052d-4370-af41-b362f58c38a1",
   "metadata": {},
   "outputs": [
    {
     "name": "stdout",
     "output_type": "stream",
     "text": [
      "(CVXPY) Apr 22 09:37:13 AM: Encountered unexpected exception importing solver GLOP:\n",
      "RuntimeError('Unrecognized new version of ortools (9.9.3963). Expected < 9.8.0. Please open a feature request on cvxpy to enable support for this version.')\n",
      "(CVXPY) Apr 22 09:37:13 AM: Encountered unexpected exception importing solver PDLP:\n",
      "RuntimeError('Unrecognized new version of ortools (9.9.3963). Expected < 9.8.0. Please open a feature request on cvxpy to enable support for this version.')\n"
     ]
    }
   ],
   "source": [
    "import numpy as np\n",
    "import pandas as pd\n",
    "import cvxpy as cp"
   ]
  },
  {
   "cell_type": "code",
   "execution_count": 2,
   "id": "4b56d846-4072-4f6c-9b89-e07237703c3b",
   "metadata": {},
   "outputs": [],
   "source": [
    "A = pd.read_csv('input/combos.csv')\n",
    "C = pd.read_csv('input/menu_byob.csv')\n",
    "P = pd.read_csv('input/menu_combo.csv')\n",
    "order = pd.read_csv('input/cust_order.csv')\n",
    "D = order"
   ]
  },
  {
   "cell_type": "code",
   "execution_count": 3,
   "id": "46d22f0a-380d-4802-acee-da0800870052",
   "metadata": {},
   "outputs": [],
   "source": [
    "A = A.fillna(0)\n",
    "A = A.set_index('combo')\n",
    "A.sort_index(inplace=True)\n",
    "A = A.reindex(sorted(A.columns), axis=1)"
   ]
  },
  {
   "cell_type": "code",
   "execution_count": 4,
   "id": "8606d3a9-8949-405b-b6eb-c77d86eebcbc",
   "metadata": {},
   "outputs": [],
   "source": [
    "C = C.set_index('seafood')\n",
    "C.sort_index(inplace=True)"
   ]
  },
  {
   "cell_type": "code",
   "execution_count": 5,
   "id": "a5255e1e-8180-47cd-9596-1c242a3292a9",
   "metadata": {},
   "outputs": [],
   "source": [
    "P = P.set_index('combo')\n",
    "P.sort_index(inplace=True)"
   ]
  },
  {
   "cell_type": "code",
   "execution_count": 6,
   "id": "8bf48154-f70f-447e-bb7f-8639d1e5fc45",
   "metadata": {},
   "outputs": [],
   "source": [
    "# Total numbers of seafood types and combos\n",
    "\n",
    "num_seafood = len(C)\n",
    "num_combo = len(P)\n",
    "\n",
    "seafoods = C['price'].keys().tolist()\n",
    "seafoods[seafoods.index('ccm')] = 'crawfish-clams-mussels'\n",
    "combos = P['price'].keys().tolist()"
   ]
  },
  {
   "cell_type": "code",
   "execution_count": 7,
   "id": "2047ede9-1905-4a71-b413-dc2f4386ecc7",
   "metadata": {},
   "outputs": [],
   "source": [
    "# \"Customer order\" info needs modifying on two places (1)(2)"
   ]
  },
  {
   "cell_type": "code",
   "execution_count": 8,
   "id": "1747f3c9-bdda-4633-b38a-92e27600bb88",
   "metadata": {},
   "outputs": [],
   "source": [
    "# (1) Split number of \"tails\" into numbers of \"tail_1\" and \"tail_2\"\n",
    "\n",
    "num_tails = D[D['seafood'] == 'tail']['pound'].values[0]\n",
    "num_1_tail = num_tails % 2\n",
    "num_2_tail = int(num_tails/2)"
   ]
  },
  {
   "cell_type": "code",
   "execution_count": 9,
   "id": "3b875c0a-cb6b-4914-8380-72de9ce7cb19",
   "metadata": {},
   "outputs": [],
   "source": [
    "# (2) Crawfish, clams, and mussels have the same price and are interchangable\n",
    "# Combine these items to form a new item, \"ccm\"\n",
    "\n",
    "ccm_lbs = D[D['seafood'] == 'crawfish']['pound'].values[0] \\\n",
    "        + D[D['seafood'] == 'clams']['pound'].values[0] \\\n",
    "        + D[D['seafood'] == 'mussels']['pound'].values[0] "
   ]
  },
  {
   "cell_type": "code",
   "execution_count": 10,
   "id": "a091540c-ceea-4760-aa22-94baf8a5ea83",
   "metadata": {},
   "outputs": [],
   "source": [
    "# Add \"df_add\" to the D dataframe and delete \"crawfish\", \"clams\", \"mussels\", and \"tail\" from it.\n",
    "\n",
    "dict_add = {'seafood':['ccm','tail_1','tail_2'], \n",
    "            'pound': [ccm_lbs, num_1_tail, num_2_tail]\n",
    "           }\n",
    "\n",
    "df_add = pd.DataFrame(dict_add)\n",
    "\n",
    "D = pd.concat( [D, df_add], axis=0, ignore_index=True )\n",
    "\n",
    "D.drop(D[D['seafood'] == 'crawfish'].index, inplace=True)\n",
    "D.drop(D[D['seafood'] == 'clams'].index, inplace=True)\n",
    "D.drop(D[D['seafood'] == 'mussels'].index, inplace=True)\n",
    "D.drop(D[D['seafood'] == 'tail'].index, inplace=True)"
   ]
  },
  {
   "cell_type": "code",
   "execution_count": 11,
   "id": "fa464536-81d5-4249-9cb5-5b70ac8be9bd",
   "metadata": {},
   "outputs": [],
   "source": [
    "# Cast all numeric info into numpy arrays for modeling (CVX requirement)\n",
    "\n",
    "comboMakeUp = A.values\n",
    "priceByob = C['price'].to_numpy()\n",
    "priceCombo = P['price'].to_numpy()\n",
    "\n",
    "D = D.set_index('seafood')\n",
    "D.sort_index(inplace=True)\n",
    "demandLBS = D['pound'].to_numpy()"
   ]
  },
  {
   "cell_type": "code",
   "execution_count": 12,
   "id": "c8254674-44fa-4f6f-9dff-77184d8c727d",
   "metadata": {},
   "outputs": [],
   "source": [
    "# BYOB Price of the order can be computed immediately\n",
    "\n",
    "totalByob = np.inner(priceByob, demandLBS)"
   ]
  },
  {
   "cell_type": "code",
   "execution_count": null,
   "id": "3da1a874-b514-45c9-a18a-09ce7be27dc6",
   "metadata": {},
   "outputs": [],
   "source": []
  },
  {
   "cell_type": "code",
   "execution_count": 13,
   "id": "ccb25fc8-6195-4377-8b26-88f831ab5e9f",
   "metadata": {},
   "outputs": [
    {
     "name": "stdout",
     "output_type": "stream",
     "text": [
      "Status:  optimal\n",
      "The optimal value is: 372.92\n",
      "A solution x is\n",
      "[ 0.  0. -0.  1. -0.  0.  0. -0.  0. -0.  0. -0. -0.]\n",
      "A solution y is\n",
      "[ 0.  0.  2. -0. -0.  1.  0. -0. -0.  0. -0.  0.  0. -0. -0.  0.  0.  4.]\n",
      "\n",
      "=============== THE KING CRAB HACK ===============\n",
      "\n",
      "Here's everything you ordered: \n",
      "\n",
      "      seafood  pound\n",
      "0    crawfish      3\n",
      "1     mussels      1\n",
      "2       clams      1\n",
      "3        king      3\n",
      "4        tail      0\n",
      "5    lob_live      0\n",
      "6    scallops      0\n",
      "7   shrimp_wh      0\n",
      "8   shrimp_hs      3\n",
      "9        snow      3\n",
      "10  dungeness      0\n",
      "11       corn      5\n",
      "12     potato      5\n",
      "13    sausage      5\n",
      "\n",
      "'Build Your Own Bag' would have cost: $ 411.31\n",
      "\n",
      "Here's what you should order to get a bang for the buck:\n",
      "\n",
      "combo_2  =  2\n",
      "combo_4_hs  =  1\n",
      "combo_sp2_hs  =  4\n",
      "king  =  1\n",
      "\n",
      "!! Now, your total (objective value) is: $ 372.92\n",
      "!! YOU SAVED: $ 38.39 (9%)\n"
     ]
    }
   ],
   "source": [
    "# Construct a CVXPY problem with the SCIP backend to solve the MIP\n",
    "\n",
    "# Define decision variables, x[i]: build your own bag seafood, y[j]: numbers of combos\n",
    "\n",
    "x = cp.Variable(num_seafood, integer=True)\n",
    "y = cp.Variable(num_combo, integer=True)\n",
    "\n",
    "# Define objective function\n",
    "\n",
    "obj_expr = cp.sum(priceCombo @ y) + cp.sum(priceByob @ x)\n",
    "objective = cp.Minimize(obj_expr)\n",
    "\n",
    "# Define constraints\n",
    "\n",
    "constraints = [ comboMakeUp @ y + x >= demandLBS,\n",
    "              x >=0,\n",
    "              y>= 0\n",
    "              ]\n",
    "\n",
    "# Call the solver\n",
    "\n",
    "prob = cp.Problem(objective, constraints)\n",
    "prob.solve()\n",
    "\n",
    "# Display the solution\n",
    "\n",
    "print(\"Status: \", prob.status)\n",
    "print(\"The optimal value is:\", prob.value)\n",
    "print(\"A solution x is\")\n",
    "print(x.value)\n",
    "print(\"A solution y is\")\n",
    "print(y.value)\n",
    "\n",
    "print( )\n",
    "print(\"=============== THE KING CRAB HACK ===============\")\n",
    "print( )\n",
    "print(\"Here's everything you ordered: \")\n",
    "print( )\n",
    "print(order)\n",
    "print( )\n",
    "print(\"'Build Your Own Bag' would have cost: $\", round(totalByob,2))\n",
    "print(\"\\n\" \"Here's what you should order to get a bang for the buck:\" \"\\n\")\n",
    "for j in range(num_combo):\n",
    "    if y.value[j] != 0: \n",
    "        print(combos[j], \" = \", int(y.value[j]))\n",
    "for i in range(num_seafood):\n",
    "    if x.value[i] != 0: \n",
    "        print(seafoods[i], \" = \", int(x.value[i]))  \n",
    "print( )\n",
    "print(\"!! Now, your total (objective value) is: $\", round(prob.value,2))\n",
    "print(\"!! YOU SAVED: $\", round(totalByob - prob.value, 2), \"(%s)\" % format((totalByob - prob.value) / totalByob, \".0%\") )"
   ]
  },
  {
   "cell_type": "code",
   "execution_count": null,
   "id": "6de8be03-86ba-4d50-a838-d2763ab7b735",
   "metadata": {},
   "outputs": [],
   "source": []
  }
 ],
 "metadata": {
  "kernelspec": {
   "display_name": "Python 3 (ipykernel)",
   "language": "python",
   "name": "python3"
  },
  "language_info": {
   "codemirror_mode": {
    "name": "ipython",
    "version": 3
   },
   "file_extension": ".py",
   "mimetype": "text/x-python",
   "name": "python",
   "nbconvert_exporter": "python",
   "pygments_lexer": "ipython3",
   "version": "3.11.7"
  }
 },
 "nbformat": 4,
 "nbformat_minor": 5
}
