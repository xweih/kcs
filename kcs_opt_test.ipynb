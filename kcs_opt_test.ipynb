{
 "cells": [
  {
   "cell_type": "code",
   "execution_count": 46,
   "id": "4b3658b9",
   "metadata": {},
   "outputs": [],
   "source": [
    "import numpy as np\n",
    "import pandas as pd\n",
    "from ortools.linear_solver import pywraplp"
   ]
  },
  {
   "cell_type": "code",
   "execution_count": 47,
   "id": "1bcaccab",
   "metadata": {},
   "outputs": [],
   "source": [
    "A = pd.read_csv('input/combos.csv')\n",
    "C = pd.read_csv('input/menu_byob.csv')\n",
    "P = pd.read_csv('input/menu_combo.csv')\n",
    "order = pd.read_csv('input/cust_order.csv')\n",
    "D = order"
   ]
  },
  {
   "cell_type": "code",
   "execution_count": 48,
   "id": "ec37a080",
   "metadata": {},
   "outputs": [],
   "source": [
    "A = A.fillna(0)\n",
    "A = A.set_index('combo')\n",
    "A.sort_index(inplace=True)\n",
    "A = A.reindex(sorted(A.columns), axis=1)"
   ]
  },
  {
   "cell_type": "code",
   "execution_count": 49,
   "id": "2bc8481b-048f-4b95-8196-5df672fa1d43",
   "metadata": {},
   "outputs": [],
   "source": [
    "C = C.set_index('seafood')\n",
    "C.sort_index(inplace=True)"
   ]
  },
  {
   "cell_type": "code",
   "execution_count": 50,
   "id": "5cc6e301-67c2-46be-af01-17c8a70ec4cc",
   "metadata": {},
   "outputs": [],
   "source": [
    "P = P.set_index('combo')\n",
    "P.sort_index(inplace=True)"
   ]
  },
  {
   "cell_type": "code",
   "execution_count": 51,
   "id": "cd4963a9",
   "metadata": {},
   "outputs": [],
   "source": [
    "# Total numbers of seafood types and combos\n",
    "\n",
    "num_seafood = len(C)\n",
    "num_combo = len(P)\n",
    "\n",
    "seafoods = C['price'].keys().tolist()\n",
    "seafoods[seafoods.index('ccm')] = 'crawfish-clams-mussels'\n",
    "combos = P['price'].keys().tolist()"
   ]
  },
  {
   "cell_type": "code",
   "execution_count": 52,
   "id": "c3f59384",
   "metadata": {},
   "outputs": [],
   "source": [
    "# \"Customer order\" info needs modifying on two places (1)(2)"
   ]
  },
  {
   "cell_type": "code",
   "execution_count": 53,
   "id": "75c49954",
   "metadata": {},
   "outputs": [],
   "source": [
    "# (1) Split number of \"tails\" into numbers of \"tail_1\" and \"tail_2\"\n",
    "\n",
    "num_tails = D[D['seafood'] == 'tail']['pound'].values[0]\n",
    "num_1_tail = num_tails % 2\n",
    "num_2_tail = int(num_tails/2)"
   ]
  },
  {
   "cell_type": "code",
   "execution_count": 54,
   "id": "3b637c9f",
   "metadata": {},
   "outputs": [],
   "source": [
    "# (2) Crawfish, clams, and mussels have the same price and are interchangable\n",
    "# Combine these items to form a new item, \"ccm\"\n",
    "\n",
    "ccm_lbs = D[D['seafood'] == 'crawfish']['pound'].values[0] \\\n",
    "        + D[D['seafood'] == 'clams']['pound'].values[0] \\\n",
    "        + D[D['seafood'] == 'mussels']['pound'].values[0] "
   ]
  },
  {
   "cell_type": "code",
   "execution_count": 55,
   "id": "104b713a",
   "metadata": {},
   "outputs": [],
   "source": [
    "# Add \"df_add\" to the D dataframe and delete \"crawfish\", \"clams\", \"mussels\", and \"tail\" from it.\n",
    "\n",
    "dict_add = {'seafood':['ccm','tail_1','tail_2'], \n",
    "            'pound': [ccm_lbs, num_1_tail, num_2_tail]\n",
    "           }\n",
    "\n",
    "df_add = pd.DataFrame(dict_add)\n",
    "\n",
    "D = pd.concat( [D, df_add], axis=0, ignore_index=True )\n",
    "\n",
    "D.drop(D[D['seafood'] == 'crawfish'].index, inplace=True)\n",
    "D.drop(D[D['seafood'] == 'clams'].index, inplace=True)\n",
    "D.drop(D[D['seafood'] == 'mussels'].index, inplace=True)\n",
    "D.drop(D[D['seafood'] == 'tail'].index, inplace=True)"
   ]
  },
  {
   "cell_type": "code",
   "execution_count": 56,
   "id": "f803c80b-0701-4c31-90f9-2d395104cd75",
   "metadata": {},
   "outputs": [],
   "source": [
    "# Cast all numeric info into dictionaries for modeling\n",
    "\n",
    "comboMakeUp = A.values.tolist()\n",
    "priceByob = C['price'].tolist()\n",
    "priceCombo = P['price'].tolist()\n",
    "\n",
    "D = D.set_index('seafood')\n",
    "D.sort_index(inplace=True)\n",
    "demandLBS = D['pound'].tolist()"
   ]
  },
  {
   "cell_type": "code",
   "execution_count": 57,
   "id": "480c4ebf-25e3-4202-88c5-7ff14a10e9cd",
   "metadata": {},
   "outputs": [],
   "source": [
    "# (OPTIONAL) Retrieve the index of 'tail_1' and 'tail_2'\n",
    "\n",
    "D_temp = D.reset_index()\n",
    "index_tail_1 = D_temp.index[D_temp['seafood'] == 'tail_1'].tolist()[0]\n",
    "index_tail_2 = D_temp.index[D_temp['seafood'] == 'tail_2'].tolist()[0]"
   ]
  },
  {
   "cell_type": "code",
   "execution_count": 58,
   "id": "68a7df87-d1c5-4046-b8d8-c47510a3a7cb",
   "metadata": {},
   "outputs": [],
   "source": [
    "# BYOB Price of the order can be computed immediately\n",
    "\n",
    "# totalByob = 0\n",
    "# for i in range(num_seafood):\n",
    "#     totalByob = totalByob + priceByob[i] * demandLBS[i]\n",
    "\n",
    "totalByob = sum([u * v for u,v in zip(priceByob, demandLBS)])"
   ]
  },
  {
   "cell_type": "code",
   "execution_count": 59,
   "id": "965881be-c2b2-450c-aa52-1dd25dcac058",
   "metadata": {},
   "outputs": [
    {
     "name": "stdout",
     "output_type": "stream",
     "text": [
      "Number of variables:  31\n",
      "Solving with SCIP 8.1.0 [LP solver: Glop 9.9]\n",
      "\n",
      "Problem solved in 9 milliseconds\n",
      "Problem solved in 10 iterations\n",
      "Problem solved in 1 branch-and-bound nodes\n",
      "\n",
      "=============== THE KING CRAB HACK ===============\n",
      "\n",
      "Here's everything you ordered: \n",
      "\n",
      "      seafood  pound\n",
      "0    crawfish      3\n",
      "1     mussels      1\n",
      "2       clams      1\n",
      "3        king      3\n",
      "4        tail      0\n",
      "5    lob_live      0\n",
      "6    scallops      0\n",
      "7   shrimp_wh      0\n",
      "8   shrimp_hs      3\n",
      "9        snow      3\n",
      "10  dungeness      0\n",
      "11       corn      5\n",
      "12     potato      5\n",
      "13    sausage      5\n",
      "\n",
      "'Build Your Own Bag' would have cost: $ 411.31\n",
      "\n",
      "Here's what you should order to get a bang for the buck:\n",
      "\n",
      "combo_2  =  2\n",
      "combo_4_hs  =  1\n",
      "combo_sp2_hs  =  4\n",
      "king  =  1\n",
      "\n",
      "!! Now, your total (objective value) is: $ 372.92\n",
      "!! YOU SAVED: $ 38.39 (9%)\n"
     ]
    }
   ],
   "source": [
    "# Create the MIP solver with the SCIP backend.\n",
    "solver = pywraplp.Solver.CreateSolver(\"SCIP\")\n",
    "\n",
    "infinity = solver.infinity()\n",
    "\n",
    "# Define decision variables, x[i]: build your own bag seafood, y[j]: numbers of combos\n",
    "\n",
    "x = {}\n",
    "for i in range(num_seafood):\n",
    "    x[i] = solver.IntVar(0, infinity, \"x[%i]\" % i)\n",
    "\n",
    "y = {}\n",
    "for j in range(num_combo):\n",
    "    y[j] = solver.IntVar(0, infinity, \"y[%i]\" % j)\n",
    "    \n",
    "print(\"Number of variables: \", solver.NumVariables())\n",
    "\n",
    "# Define constraints\n",
    "\n",
    "## Constraint (1): customer demand must be met\n",
    "for i in range(num_seafood):\n",
    "    constraint_expr = 0      \n",
    "    for j in range(num_combo):\n",
    "        constraint_expr = constraint_expr + comboMakeUp[i][j] * y[j]         \n",
    "    solver.Add( constraint_expr + x[i] >= demandLBS[i] )\n",
    "\n",
    "## Constraint (2): lobster tails (optional)\n",
    "# solver.Add( x[index_tail_2] == 2*x[index_tail_1] )  \n",
    "\n",
    "\n",
    "# Define objective function\n",
    "\n",
    "objective = solver.Objective()\n",
    "\n",
    "obj_expr =  0\n",
    "for j in range(num_combo):\n",
    "    obj_expr = obj_expr + priceCombo[j] * y[j]\n",
    "for i in range(num_seafood):\n",
    "    obj_expr = obj_expr + priceByob[i] * x[i]\n",
    "\n",
    "solver.Minimize(obj_expr)\n",
    "\n",
    "# Call the solver\n",
    "\n",
    "print(f\"Solving with {solver.SolverVersion()}\")\n",
    "status = solver.Solve()\n",
    "\n",
    "# Postprocessing\n",
    "\n",
    "# Display the solution\n",
    "\n",
    "if status == pywraplp.Solver.OPTIMAL:\n",
    "    print()\n",
    "    print(f\"Problem solved in {solver.wall_time():d} milliseconds\")\n",
    "    print(f\"Problem solved in {solver.iterations():d} iterations\")\n",
    "    print(f\"Problem solved in {solver.nodes():d} branch-and-bound nodes\")\n",
    "    print( )\n",
    "    print(\"=============== THE KING CRAB HACK ===============\")\n",
    "    print( )\n",
    "    print(\"Here's everything you ordered: \")\n",
    "    print( )\n",
    "    print(order)\n",
    "    print( )\n",
    "    print(\"'Build Your Own Bag' would have cost: $\", round(totalByob,2))\n",
    "    print(\"\\n\" \"Here's what you should order to get a bang for the buck:\" \"\\n\")\n",
    "    for j in range(num_combo):\n",
    "        if y[j].solution_value() != 0: \n",
    "            print(combos[j], \" = \", int(y[j].solution_value()))\n",
    "    for i in range(num_seafood):\n",
    "        if x[i].solution_value() != 0: \n",
    "            print(seafoods[i], \" = \", int(x[i].solution_value()))  \n",
    "    print( )\n",
    "    print(\"!! Now, your total (objective value) is: $\", round(solver.Objective().Value(),2))\n",
    "    print(\"!! YOU SAVED: $\", round(totalByob-solver.Objective().Value(),2), \"(%s)\" % format((totalByob-solver.Objective().Value())/totalByob, \".0%\") )\n",
    "    \n",
    "else:\n",
    "    print(\"The problem does not have an optimal solution.\")\n",
    "    "
   ]
  },
  {
   "cell_type": "code",
   "execution_count": null,
   "id": "efa0d44f-6ff1-4a5d-bb33-878feeff4ede",
   "metadata": {},
   "outputs": [],
   "source": []
  },
  {
   "cell_type": "code",
   "execution_count": null,
   "id": "0168bbea-842f-4694-bd73-5d034182eadd",
   "metadata": {},
   "outputs": [],
   "source": []
  }
 ],
 "metadata": {
  "kernelspec": {
   "display_name": "Python 3 (ipykernel)",
   "language": "python",
   "name": "python3"
  },
  "language_info": {
   "codemirror_mode": {
    "name": "ipython",
    "version": 3
   },
   "file_extension": ".py",
   "mimetype": "text/x-python",
   "name": "python",
   "nbconvert_exporter": "python",
   "pygments_lexer": "ipython3",
   "version": "3.11.7"
  }
 },
 "nbformat": 4,
 "nbformat_minor": 5
}
